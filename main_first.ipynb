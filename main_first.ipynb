{
 "cells": [
  {
   "cell_type": "code",
   "execution_count": 1,
   "metadata": {},
   "outputs": [],
   "source": [
    "import requests, json, urllib.parse\n",
    "base_url = 'https://itunes.apple.com/search'\n",
    "\n",
    "\n",
    "artist = 'Post Malone'\n",
    "\n",
    "\n",
    "params = {\n",
    "    'term': artist,\n",
    "    'limit': 200,    \n",
    "    'media': 'music',\n",
    "    'entity': 'song',\n",
    "    'attribute': 'artistTerm'\n",
    "}\n",
    "\n",
    "response = requests.get(f\"{base_url}?{urllib.parse.urlencode(params)}\")\n",
    "\n",
    "data = json.loads(response.text)\n",
    "data = data['results']"
   ]
  },
  {
   "cell_type": "code",
   "execution_count": 2,
   "metadata": {},
   "outputs": [],
   "source": [
    "import dateutil.parser\n",
    "data = map(lambda x: {**x, 'releaseDate': dateutil.parser.isoparse(x['releaseDate'])}, data)\n",
    "data = list(data)"
   ]
  },
  {
   "cell_type": "code",
   "execution_count": 3,
   "metadata": {},
   "outputs": [],
   "source": [
    "data = map(lambda x: {\n",
    "    'artistName': x['artistName'],\n",
    "    'kind' : x['kind'],\n",
    "    'artistId': x['artistId'],\n",
    "    'collectionId': x['collectionId'],\n",
    "    'trackId': x['trackId'],\n",
    "    'artistName': x['artistName'],\n",
    "    'collectionName': x['collectionName'],\n",
    "    'trackName': x['trackName'],\n",
    "    'collectionPrice': x['collectionPrice'],\n",
    "    'trackPrice': x['trackPrice'],\n",
    "    'releaseDate': x['releaseDate'],\n",
    "    'trackCount': x['trackCount'],\n",
    "    'trackNumber': x['trackNumber'],\n",
    "    'trackTimeMillis': x['trackTimeMillis'],\n",
    "    'country': x['country'],\n",
    "    'currency': x['currency'],\n",
    "    'primaryGenreName': x['primaryGenreName']\n",
    "}, data)\n",
    "data = list(data)"
   ]
  },
  {
   "cell_type": "code",
   "execution_count": 4,
   "metadata": {},
   "outputs": [],
   "source": [
    "def convert_millis(millis: int) -> str:\n",
    "    total_seconds = millis // 1000\n",
    "    seconds = total_seconds % 60\n",
    "    minutes = (total_seconds // 60) % 60\n",
    "    hours = (total_seconds // (60 * 60))\n",
    "    return f\"{hours}:Hours,{minutes}:Minutes,{seconds}:Seconds\""
   ]
  },
  {
   "cell_type": "code",
   "execution_count": 5,
   "metadata": {},
   "outputs": [
    {
     "name": "stdout",
     "output_type": "stream",
     "text": [
      "79\n",
      "['Hip-Hop/Rap', 'Hip-Hop/Rap', 'Hip-Hop/Rap', 'Hip-Hop/Rap', 'Hip-Hop/Rap', 'Hip-Hop/Rap', 'Hip-Hop/Rap', 'Hip-Hop/Rap', 'Hip-Hop/Rap', 'Hip-Hop/Rap', 'Hip-Hop/Rap', 'Hip-Hop/Rap', 'Hip-Hop/Rap', 'Hip-Hop/Rap', 'Hip-Hop/Rap', 'Hip-Hop/Rap', 'Hip-Hop/Rap', 'Hip-Hop/Rap', 'Hip-Hop/Rap', 'Hip-Hop/Rap', 'Hip-Hop/Rap', 'Hip-Hop/Rap', 'Hip-Hop/Rap', 'Hip-Hop/Rap', 'Hip-Hop/Rap', 'Hip-Hop/Rap', 'Hip-Hop/Rap', 'Hip-Hop/Rap', 'Hip-Hop/Rap', 'Hip-Hop/Rap', 'Hip-Hop/Rap', 'Hip-Hop/Rap', 'Hip-Hop/Rap', 'Hip-Hop/Rap', 'Hip-Hop/Rap', 'Hip-Hop/Rap', 'Hip-Hop/Rap', 'Hip-Hop/Rap', 'Hip-Hop/Rap', 'Hip-Hop/Rap', 'Hip-Hop/Rap', 'Hip-Hop/Rap', 'Hip-Hop/Rap', 'Hip-Hop/Rap', 'Hip-Hop/Rap', 'Hip-Hop/Rap', 'Hip-Hop/Rap', 'Hip-Hop/Rap', 'Hip-Hop/Rap', 'Hip-Hop/Rap', 'Hip-Hop/Rap', 'Hip-Hop/Rap', 'Hip-Hop/Rap', 'Hip-Hop/Rap', 'Hip-Hop/Rap', 'Hip-Hop/Rap', 'Hip-Hop/Rap', 'Hip-Hop/Rap', 'Hip-Hop/Rap', 'Hip-Hop/Rap', 'Hip-Hop/Rap', 'Hip-Hop/Rap', 'Hip-Hop/Rap', 'Hip-Hop/Rap', 'Hip-Hop/Rap', 'Hip-Hop/Rap', 'Hip-Hop/Rap', 'Hip-Hop/Rap', 'Hip-Hop/Rap', 'Hip-Hop/Rap', 'Hip-Hop/Rap', 'Hip-Hop/Rap', 'Hip-Hop/Rap', 'Hip-Hop/Rap', 'Hip-Hop/Rap', 'Hip-Hop/Rap', 'Hip-Hop/Rap', 'Hip-Hop/Rap', 'Hip-Hop/Rap', 'Hip-Hop/Rap', 'Hip-Hop/Rap', 'Hip-Hop/Rap', 'Hip-Hop/Rap', 'Hip-Hop/Rap', 'Hip-Hop/Rap', 'Pop', 'Hip-Hop/Rap', 'Hip-Hop/Rap', 'Pop', 'Hip-Hop/Rap', 'Hip-Hop/Rap', 'Hip-Hop/Rap', 'Hip-Hop/Rap', 'Hip-Hop/Rap', 'Hip-Hop/Rap', 'Hip-Hop/Rap', 'Metal', 'Hip-Hop/Rap', 'Hip-Hop/Rap', 'Hip-Hop/Rap', 'Hip-Hop/Rap', 'Hip-Hop/Rap', 'Hip-Hop/Rap', 'Hip-Hop/Rap', 'Hip-Hop/Rap', 'Pop', 'Soundtrack', 'Hip-Hop/Rap', 'Hip-Hop/Rap', 'Hip-Hop/Rap', 'Hip-Hop/Rap', 'Hip-Hop/Rap', 'Hip-Hop/Rap', 'Hip-Hop/Rap', 'Hip-Hop/Rap', 'Hip-Hop/Rap', 'Hip-Hop/Rap', 'Hip-Hop/Rap', 'Hip-Hop/Rap', 'Hip-Hop/Rap', 'Hip-Hop/Rap', 'Hip-Hop/Rap', 'Hip-Hop/Rap', 'Hip-Hop/Rap', 'Hip-Hop/Rap', 'Hip-Hop/Rap', 'Hip-Hop/Rap', 'Hip-Hop/Rap', 'Hip-Hop/Rap', 'Hip-Hop/Rap', 'Pop', 'Hip-Hop/Rap', 'Hip-Hop/Rap', 'Hip-Hop/Rap', 'Urbano latino', 'Hip-Hop/Rap', 'Hip-Hop/Rap', 'Hip-Hop/Rap', 'Hip-Hop/Rap', 'Hip-Hop/Rap', 'Hip-Hop/Rap', 'Hip-Hop/Rap', 'Hip-Hop/Rap', 'Pop', 'Hip-Hop/Rap', 'Hip-Hop/Rap', 'Hip-Hop/Rap', 'Pop', 'Hip-Hop/Rap', 'Hip-Hop/Rap', 'Hip-Hop/Rap', 'Hip-Hop/Rap', 'Hip-Hop/Rap', 'Hip-Hop/Rap', 'Hip-Hop/Rap', 'Hip-Hop/Rap', 'Hip-Hop/Rap', 'Hip-Hop/Rap', 'Hip-Hop/Rap', 'Hip-Hop/Rap', 'Hip-Hop/Rap', 'Hip-Hop/Rap', 'Hip-Hop/Rap', 'Hip-Hop/Rap', 'Hip-Hop/Rap', 'Hip-Hop/Rap', 'Hip-Hop/Rap', 'Hip-Hop/Rap', 'Hip-Hop', 'Hip-Hop/Rap', 'Hip-Hop/Rap', 'Hip-Hop/Rap', 'Hip-Hop/Rap', 'Hip-Hop/Rap', 'Hip-Hop/Rap', 'Hip-Hop/Rap', 'Hip-Hop/Rap', 'Hip-Hop/Rap', 'Hip-Hop/Rap', 'Hip-Hop/Rap', 'Hip-Hop/Rap', 'Hip-Hop/Rap', 'Hip-Hop/Rap', 'Hip-Hop/Rap', 'Hip-Hop/Rap', 'Hip-Hop/Rap', 'Hip-Hop/Rap', 'Hip-Hop/Rap', 'Hip-Hop/Rap', 'Hip-Hop/Rap', 'Hip-Hop/Rap', 'Hip-Hop/Rap', 'Hip-Hop/Rap', 'Hip-Hop/Rap', 'Hip-Hop/Rap', 'Hip-Hop/Rap', 'Hip-Hop/Rap', 'Hip-Hop/Rap', 'Hip-Hop/Rap', 'Hip-Hop/Rap']\n",
      "33\n",
      "40500211\n",
      "202501\n",
      "204431.0\n",
      "Leave 324854\n",
      "New Recording 12, Jan 3, 2020 92718\n",
      "230.5199999999996\n",
      "1.1526\n",
      "1.29\n",
      "rockstar (feat. 21 Savage) 1.29\n",
      "I Fall Apart -1.0\n"
     ]
    }
   ],
   "source": [
    "from statistics import mean, median\n",
    "countSong = len(set(list(map(lambda x: x['trackName'], data))))\n",
    "primaryGenreName = list(map(lambda x: x['primaryGenreName'], data))\n",
    "countCollection = len(set(list(map(lambda x: x['collectionName'], data))))\n",
    "timeCount = sum(list(map(lambda x: x['trackTimeMillis'], data)))\n",
    "AverageTime = int(mean(list(map(lambda x: x['trackTimeMillis'], data))))\n",
    "MedianTime = list(map(lambda x: x['trackTimeMillis'], data))\n",
    "MedianTime.sort()\n",
    "MedianTime = median(MedianTime)\n",
    "time_extractor = lambda x: x['trackTimeMillis']\n",
    "LongestTime = max(data, key=time_extractor)\n",
    "ShortesTime = min(data, key=time_extractor)\n",
    "AllTrackPrice = sum(list(map(lambda x: x['trackPrice'], data)))\n",
    "AverageTrackPrice = mean(list(map(lambda x: x['trackPrice'], data)))\n",
    "MedianTrackPrice = list(map(lambda x: x['trackPrice'], data))\n",
    "MedianTrackPrice.sort()\n",
    "MedianTrackPrice = median(MedianTrackPrice)\n",
    "price_extractor = lambda x: x['trackPrice']\n",
    "MaxPrice = max(data, key=price_extractor)\n",
    "MinPrice = min(data, key=price_extractor)\n",
    "print(countSong)\n",
    "print(primaryGenreName)\n",
    "print(countCollection)\n",
    "print(timeCount)\n",
    "print(AverageTime)\n",
    "print(MedianTime)\n",
    "print(LongestTime['trackName'], LongestTime['trackTimeMillis'])\n",
    "print(ShortesTime['trackName'], ShortesTime['trackTimeMillis'])\n",
    "print(AllTrackPrice)\n",
    "print(AverageTrackPrice)\n",
    "print(MedianTrackPrice)\n",
    "print(MaxPrice['trackName'], MaxPrice['trackPrice'])\n",
    "print(MinPrice['trackName'], MinPrice['trackPrice'])"
   ]
  },
  {
   "cell_type": "code",
   "execution_count": 6,
   "metadata": {},
   "outputs": [
    {
     "name": "stdout",
     "output_type": "stream",
     "text": [
      "{'Spider-Man: Into the Spider-Verse (Soundtrack From & Inspired by the Motion Picture) [Deluxe Edition]', \"Now That's What I Call Music, Vol. 67\", \"NOW That's What I Call Music, Vol. 71\", 'Ordinary Man', 'beerbongs & bentleys', 'Wow. - Single', 'Cooped Up / Return Of The Mack - Single', 'Motley Crew - Single', 'Wow. (Remix) [feat. Roddy Ricch & Tyga] - Single', \"NOW That's What I Call Music, Vol. 63\", \"NOW That's What I Call Music! Vol. 84\", 'Stoney (Deluxe)', \"NOW That's What I Call Music! Vol. 73\", 'Only Wanna Be With You (Pokémon 25 Version) - Single', \"NOW That's What I Call Music!, Vol. 68\", \"NOW That's What I Call Music, Vol. 65\", \"NOW That's What I Call Music! Vol. 80\", 'Spider-Man: Into the Spider-Verse (Soundtrack From & Inspired by the Motion Picture)', 'Goodbyes (feat. Young Thug) - Single', 'Congratulations (Remix) [feat. Quavo & Future] - Single', \"Life's a Mess II - Single\", 'rockstar (Remix) [feat. Nicky Jam & Ozuna] - Single', '2020 GRAMMY® Nominees', \"The Best of The '68 Comeback Special (Live)\", \"NOW That's What I Call Music! Vol. 72\", \"Hollywood's Bleeding\", 'Twelve Carat Toothache (Deluxe)', \"NOW That's What I Call Music!, Vol. 82\", 'One Right Now - Single', 'First Time for Everything, Pt. 1 - EP', 'Twelve Carat Toothache', 'Stoney', 'The Fate of the Furious: The Album'}\n",
      "{1493922560, 1447675271, 1593056776, 1649859342, 1623258524, 1453876765, 1472053532, 1437684126, 1440890146, 1456309795, 1494024614, 1445053098, 1628224555, 1593056949, 1440887225, 1440888125, 1587029952, 1447203905, 1373504837, 1477880265, 1258897097, 1447201612, 1575617869, 1470523856, 1445949265, 1334446033, 1098012753, 1575618656, 1473297378, 1491393508, 1373516902, 1477886950, 1649809128, 1556492776, 1210530922, 1482215659, 1440901612, 1554898158, 1410402926, 1617851247, 1650262002, 1623192950, 1444269177, 1210537086, 1628227327}\n",
      "['First Time for Everything, Pt. 1 - EP', 'The Fate of the Furious: The Album', 'The Fate of the Furious: The Album', \"NOW That's What I Call Music, Vol. 63\", \"NOW That's What I Call Music, Vol. 65\", 'beerbongs & bentleys', 'beerbongs & bentleys', \"Now That's What I Call Music, Vol. 67\", \"NOW That's What I Call Music!, Vol. 68\", 'Stoney (Deluxe)', 'Stoney (Deluxe)', 'Stoney', 'Stoney', 'Congratulations (Remix) [feat. Quavo & Future] - Single', 'rockstar (Remix) [feat. Nicky Jam & Ozuna] - Single', 'Spider-Man: Into the Spider-Verse (Soundtrack From & Inspired by the Motion Picture)', 'Wow. - Single', 'Wow. - Single', \"The Best of The '68 Comeback Special (Live)\", 'Spider-Man: Into the Spider-Verse (Soundtrack From & Inspired by the Motion Picture) [Deluxe Edition]', 'Wow. (Remix) [feat. Roddy Ricch & Tyga] - Single', 'Goodbyes (feat. Young Thug) - Single', \"NOW That's What I Call Music, Vol. 71\", 'Goodbyes (feat. Young Thug) - Single', \"Hollywood's Bleeding\", \"Hollywood's Bleeding\", \"NOW That's What I Call Music! Vol. 72\", \"NOW That's What I Call Music! Vol. 73\", 'Ordinary Man', '2020 GRAMMY® Nominees', 'Only Wanna Be With You (Pokémon 25 Version) - Single', \"Life's a Mess II - Single\", 'Motley Crew - Single', 'Motley Crew - Single', \"NOW That's What I Call Music! Vol. 80\", 'One Right Now - Single', 'One Right Now - Single', \"NOW That's What I Call Music!, Vol. 82\", 'Twelve Carat Toothache', 'Twelve Carat Toothache', 'Twelve Carat Toothache (Deluxe)', 'Twelve Carat Toothache (Deluxe)', 'Cooped Up / Return Of The Mack - Single', \"NOW That's What I Call Music! Vol. 84\", 'Cooped Up / Return Of The Mack - Single']\n"
     ]
    }
   ],
   "source": [
    "from itertools import groupby\n",
    "\n",
    "album_name = set(list(map(lambda x: x['collectionName'], data)))\n",
    "album_id = set(list(map(lambda x: x['collectionId'], data)))\n",
    "\n",
    "print(album_name)\n",
    "print(album_id)\n",
    "\n",
    "collection_id_extractor = lambda x: x['collectionId']\n",
    "\n",
    "sorted_by_album = sorted(data, key=collection_id_extractor)\n",
    "album_groups = {}\n",
    "album_names = {}\n",
    "\n",
    "for album_id, songs in groupby(sorted_by_album, key=collection_id_extractor):\n",
    "    songs = list(songs)\n",
    "    album_groups[album_id] = songs \n",
    "    album_names[album_id] = songs[0]['collectionName']\n",
    "\n",
    "# Удаление переменной, действие опционально\n",
    "del sorted_by_album\n",
    "\n",
    "print(list(album_names.values()))"
   ]
  },
  {
   "cell_type": "code",
   "execution_count": 10,
   "metadata": {},
   "outputs": [
    {
     "name": "stdout",
     "output_type": "stream",
     "text": [
      "1\n",
      "['Pop']\n",
      "1\n",
      "190573\n",
      "190573\n",
      "190573\n",
      "If I Can Dream (from the NBC Elvis All-Star Tribute) 190573\n",
      "If I Can Dream (from the NBC Elvis All-Star Tribute) 190573\n",
      "1.29\n",
      "1.29\n",
      "1.29\n",
      "If I Can Dream (from the NBC Elvis All-Star Tribute) 1.29\n",
      "If I Can Dream (from the NBC Elvis All-Star Tribute) 1.29\n"
     ]
    }
   ],
   "source": [
    "album = list(album_groups[1447675271])\n",
    "album_name = album_names[1447675271]\n",
    "countSong_album = len(set(list(map(lambda x: x['trackName'], album))))\n",
    "primaryGenreName_album = list(map(lambda x: x['primaryGenreName'], album))\n",
    "countCollection_album = len(set(list(map(lambda x: x['collectionName'], album))))\n",
    "timeCount_album = sum(list(map(lambda x: x['trackTimeMillis'], album)))\n",
    "AverageTime_album = int(mean(list(map(lambda x: x['trackTimeMillis'], album))))\n",
    "MedianTime_album = list(map(lambda x: x['trackTimeMillis'], album))\n",
    "MedianTime_album.sort()\n",
    "MedianTime_album = median(MedianTime_album)\n",
    "time_extractor_album = lambda x: x['trackTimeMillis']\n",
    "LongestTime_album = max(album, key=time_extractor_album)\n",
    "ShortesTime_album = min(album, key=time_extractor_album)\n",
    "AllTrackPrice_album = sum(list(map(lambda x: x['trackPrice'], album)))\n",
    "AverageTrackPrice_album = mean(list(map(lambda x: x['trackPrice'], album)))\n",
    "MedianTrackPrice_album = list(map(lambda x: x['trackPrice'], album))\n",
    "MedianTrackPrice_album.sort()\n",
    "MedianTrackPrice_album = median(MedianTrackPrice_album)\n",
    "price_extractor_album = lambda x: x['trackPrice']\n",
    "MaxPrice_album = max(album, key=price_extractor_album)\n",
    "MinPrice_album = min(album, key=price_extractor_album)\n",
    "print(countSong_album)\n",
    "print(primaryGenreName_album)\n",
    "print(countCollection_album)\n",
    "print(timeCount_album)\n",
    "print(AverageTime_album)\n",
    "print(MedianTime_album)\n",
    "print(LongestTime_album['trackName'], LongestTime_album['trackTimeMillis'])\n",
    "print(ShortesTime_album['trackName'], ShortesTime_album['trackTimeMillis'])\n",
    "print(AllTrackPrice_album)\n",
    "print(AverageTrackPrice_album)\n",
    "print(MedianTrackPrice_album)\n",
    "print(MaxPrice_album['trackName'], MaxPrice_album['trackPrice'])\n",
    "print(MinPrice_album['trackName'], MinPrice_album['trackPrice'])"
   ]
  }
 ],
 "metadata": {
  "kernelspec": {
   "display_name": "Python 3.10.8 64-bit",
   "language": "python",
   "name": "python3"
  },
  "language_info": {
   "codemirror_mode": {
    "name": "ipython",
    "version": 3
   },
   "file_extension": ".py",
   "mimetype": "text/x-python",
   "name": "python",
   "nbconvert_exporter": "python",
   "pygments_lexer": "ipython3",
   "version": "3.10.8"
  },
  "orig_nbformat": 4,
  "vscode": {
   "interpreter": {
    "hash": "bf71e34002a76707f5a4220d3f906aca16475517a0fa236312ae769c600e7c29"
   }
  }
 },
 "nbformat": 4,
 "nbformat_minor": 2
}
